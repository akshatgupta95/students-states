{
 "metadata": {
  "name": "",
  "signature": "sha256:4e86a5d01119aab07a856584e4f911563511bee81803696e9f2bdefa2f46d06b"
 },
 "nbformat": 3,
 "nbformat_minor": 0,
 "worksheets": [
  {
   "cells": [
    {
     "cell_type": "code",
     "collapsed": false,
     "input": [
      "import xlrd as xl\n",
      "import requests\n",
      "from bs4 import BeautifulSoup"
     ],
     "language": "python",
     "metadata": {},
     "outputs": [],
     "prompt_number": 132
    },
    {
     "cell_type": "code",
     "collapsed": false,
     "input": [
      "wb = xl.open_workbook('./app/static/zipcodes-fa15.xlsx')"
     ],
     "language": "python",
     "metadata": {},
     "outputs": [],
     "prompt_number": 135
    },
    {
     "cell_type": "code",
     "collapsed": false,
     "input": [
      "all_values = []\n",
      "for sheet in wb.sheets():\n",
      "    for row in range(sheet.nrows):\n",
      "        values = []\n",
      "        for col in range(sheet.ncols):\n",
      "            values.append(sheet.cell(row, col).value)\n",
      "        all_values.append(values)\n",
      "all_values = all_values[5:]"
     ],
     "language": "python",
     "metadata": {},
     "outputs": [],
     "prompt_number": 136
    },
    {
     "cell_type": "code",
     "collapsed": false,
     "input": [
      "def get_state (zipcode):\n",
      "    zipcode = str(zipcode)\n",
      "    url = \"http://www.city-data.com/zips/\" + zipcode + \".html\"\n",
      "    r = requests.get(url)\n",
      "    data = r.text\n",
      "    soup = BeautifulSoup(data)\n",
      "    success_div = soup.findAll(attrs={\"class\":\"alert alert-success\"})\n",
      "    if (success_div is not None):\n",
      "        a = success_div[0].find('a')\n",
      "        state = str(a.text.split(',')[1].strip())\n",
      "    else:\n",
      "        state = None\n",
      "    return state"
     ],
     "language": "python",
     "metadata": {},
     "outputs": [],
     "prompt_number": 137
    },
    {
     "cell_type": "code",
     "collapsed": false,
     "input": [
      "get_state('61820')"
     ],
     "language": "python",
     "metadata": {},
     "outputs": [
      {
       "metadata": {},
       "output_type": "pyout",
       "prompt_number": 139,
       "text": [
        "'IL'"
       ]
      }
     ],
     "prompt_number": 139
    },
    {
     "cell_type": "code",
     "collapsed": false,
     "input": [],
     "language": "python",
     "metadata": {},
     "outputs": []
    }
   ],
   "metadata": {}
  }
 ]
}