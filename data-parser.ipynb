{
 "metadata": {
  "name": "",
  "signature": "sha256:583a1c5278593554c641d50edd0efd56fd6ab166999e1163d7a88fe948968fbf"
 },
 "nbformat": 3,
 "nbformat_minor": 0,
 "worksheets": [
  {
   "cells": [
    {
     "cell_type": "code",
     "collapsed": false,
     "input": [
      "import xlrd as xl\n",
      "import requests\n",
      "from bs4 import BeautifulSoup"
     ],
     "language": "python",
     "metadata": {},
     "outputs": [],
     "prompt_number": 1
    },
    {
     "cell_type": "code",
     "collapsed": false,
     "input": [
      "wb = xl.open_workbook('./app/static/zipcodes-fa15.xlsx')"
     ],
     "language": "python",
     "metadata": {},
     "outputs": [],
     "prompt_number": 2
    },
    {
     "cell_type": "code",
     "collapsed": false,
     "input": [
      "all_values = []\n",
      "for sheet in wb.sheets():\n",
      "    for row in range(sheet.nrows):\n",
      "        values = []\n",
      "        for col in range(sheet.ncols):\n",
      "            values.append(sheet.cell(row, col).value)\n",
      "        all_values.append(values)\n",
      "all_values = all_values[5:]"
     ],
     "language": "python",
     "metadata": {},
     "outputs": [],
     "prompt_number": 3
    },
    {
     "cell_type": "code",
     "collapsed": false,
     "input": [
      "def get_state (zipcode):\n",
      "    zipcode = str(zipcode)\n",
      "    url = \"http://www.city-data.com/zips/\" + zipcode + \".html\"\n",
      "    r = requests.get(url)\n",
      "    data = r.text\n",
      "    soup = BeautifulSoup(data)\n",
      "    success_div = soup.findAll(attrs={\"class\":\"alert alert-success\"})\n",
      "    if (success_div is not None):\n",
      "        a = success_div[0].find('a')\n",
      "        state = str(a.text.split(',')[1].strip())\n",
      "    else:\n",
      "        state = None\n",
      "    return state"
     ],
     "language": "python",
     "metadata": {},
     "outputs": [],
     "prompt_number": 4
    },
    {
     "cell_type": "code",
     "collapsed": false,
     "input": [
      "table = {}\n",
      "\n",
      "midwest = \"Midwest, 41.9653087, -91.8031071\"\n",
      "pacific = \"Pacific, 39.8638751, -123.742465\"\n",
      "rocky = \"Rocky Mountain, 41.2567792, -111.002006\"\n",
      "southwest = \"Southwest, 41.2567792, -111.002006\"\n",
      "southeast = \"Southeast, 32.0292207, -102.262669\"\n",
      "northeast = \"Northeast, 42.3677199, -72.5757032\"\n",
      "noncontig = \"Noncontiguous, 24.1755886, -98.5275888\"\n",
      "\n",
      "table[\"IL\"] = midwest # illinois\n",
      "table[\"WI\"] = midwest # wisconsin\n",
      "table[\"IN\"] = midwest # indiana\n",
      "table[\"OH\"] = midwest # ohio\n",
      "table[\"MI\"] = midwest # michigan\n",
      "table[\"MO\"] = midwest # missouri\n",
      "table[\"IA\"] = midwest # iowa\n",
      "table[\"MN\"] = midwest # minnesota\n",
      "table[\"ND\"] = midwest # north dakota\n",
      "table[\"SD\"] = midwest # south dakota\n",
      "table[\"NE\"] = midwest # nebraska\n",
      "table[\"KS\"] = midwest # kansas\n",
      "\n",
      "table[\"CA\"] = pacific # california\n",
      "table[\"OR\"] = pacific # oregon\n",
      "table[\"WA\"] = pacific # washington\n",
      "\n",
      "table[\"ID\"] = rocky # idaho\n",
      "table[\"NV\"] = rocky #nevada\n",
      "table[\"MT\"] = rocky # montana\n",
      "table[\"UT\"] = rocky # utah\n",
      "table[\"CO\"] = rocky # colorado\n",
      "table[\"WY\"] = rocky #wyoming\n",
      "\n",
      "table[\"AZ\"] = southwest # arizona\n",
      "table[\"TX\"] = southwest # texas\n",
      "table[\"NM\"] = southwest # new mexico\n",
      "table[\"OK\"] = southwest #oklahoma\n",
      "\n",
      "table[\"LA\"] = southeast # louisiana\n",
      "table[\"AR\"] = southeast # arkansas\n",
      "table[\"MS\"] = southeast # mississippi\n",
      "table[\"AL\"] = southeast # alabama\n",
      "table[\"TN\"] = southeast # tennessee\n",
      "table[\"KY\"] = southeast # kentucky\n",
      "table[\"GA\"] = southeast # georgia\n",
      "table[\"FL\"] = southeast # florida\n",
      "table[\"SC\"] = southeast # south carolina\n",
      "table[\"NC\"] = southeast # north carolina\n",
      "table[\"VA\"] = southeast # virginia\n",
      "table[\"WV\"] = southeast # west virginia\n",
      "table[\"MD\"] = southeast # maryland\n",
      "table[\"DE\"] = southeast # delaware\n",
      "\n",
      "table[\"CT\"] = northeast # connecticut\n",
      "table[\"NJ\"] = northeast # new jersey\n",
      "table[\"NY\"] = northeast # new york\n",
      "table[\"PA\"] = northeast # pennsylvania\n",
      "table[\"MA\"] = northeast # massachusetts\n",
      "table[\"VT\"] = northeast # vermont\n",
      "table[\"NH\"] = northeast # new hampshire\n",
      "table[\"ME\"] = northeast # maine\n",
      "table[\"RI\"] = northeast # rhode island\n",
      "\n",
      "table[\"HI\"] = noncontig # hawaii\n",
      "table[\"AK\"] = noncontig # alaska"
     ],
     "language": "python",
     "metadata": {},
     "outputs": [],
     "prompt_number": 5
    },
    {
     "cell_type": "code",
     "collapsed": false,
     "input": [
      "get_state('01450')\n",
      "# for value in all_values:\n",
      "#     curr_zip = str(value[0])\n",
      "#     num_students = value[1]\n",
      "#     try:\n",
      "#         ret_val = table[get_state(curr_zip)]\n",
      "#         print (ret_val)\n",
      "#     except:\n",
      "#         pass"
     ],
     "language": "python",
     "metadata": {},
     "outputs": [
      {
       "ename": "ConnectionError",
       "evalue": "HTTPConnectionPool(host='www.city-data.com', port=80): Max retries exceeded with url: /zips/01450.html (Caused by <class 'httplib.BadStatusLine'>: '')",
       "output_type": "pyerr",
       "traceback": [
        "\u001b[0;31m---------------------------------------------------------------------------\u001b[0m\n\u001b[0;31mConnectionError\u001b[0m                           Traceback (most recent call last)",
        "\u001b[0;32m<ipython-input-6-3b4627114bcb>\u001b[0m in \u001b[0;36m<module>\u001b[0;34m()\u001b[0m\n\u001b[0;32m----> 1\u001b[0;31m \u001b[0mget_state\u001b[0m\u001b[0;34m(\u001b[0m\u001b[0;34m'01450'\u001b[0m\u001b[0;34m)\u001b[0m\u001b[0;34m\u001b[0m\u001b[0m\n\u001b[0m\u001b[1;32m      2\u001b[0m \u001b[0;31m# for value in all_values:\u001b[0m\u001b[0;34m\u001b[0m\u001b[0;34m\u001b[0m\u001b[0m\n\u001b[1;32m      3\u001b[0m \u001b[0;31m#     curr_zip = str(value[0])\u001b[0m\u001b[0;34m\u001b[0m\u001b[0;34m\u001b[0m\u001b[0m\n\u001b[1;32m      4\u001b[0m \u001b[0;31m#     num_students = value[1]\u001b[0m\u001b[0;34m\u001b[0m\u001b[0;34m\u001b[0m\u001b[0m\n\u001b[1;32m      5\u001b[0m \u001b[0;31m#     try:\u001b[0m\u001b[0;34m\u001b[0m\u001b[0;34m\u001b[0m\u001b[0m\n",
        "\u001b[0;32m<ipython-input-4-1a6e89847eaa>\u001b[0m in \u001b[0;36mget_state\u001b[0;34m(zipcode)\u001b[0m\n\u001b[1;32m      2\u001b[0m     \u001b[0mzipcode\u001b[0m \u001b[0;34m=\u001b[0m \u001b[0mstr\u001b[0m\u001b[0;34m(\u001b[0m\u001b[0mzipcode\u001b[0m\u001b[0;34m)\u001b[0m\u001b[0;34m\u001b[0m\u001b[0m\n\u001b[1;32m      3\u001b[0m     \u001b[0murl\u001b[0m \u001b[0;34m=\u001b[0m \u001b[0;34m\"http://www.city-data.com/zips/\"\u001b[0m \u001b[0;34m+\u001b[0m \u001b[0mzipcode\u001b[0m \u001b[0;34m+\u001b[0m \u001b[0;34m\".html\"\u001b[0m\u001b[0;34m\u001b[0m\u001b[0m\n\u001b[0;32m----> 4\u001b[0;31m     \u001b[0mr\u001b[0m \u001b[0;34m=\u001b[0m \u001b[0mrequests\u001b[0m\u001b[0;34m.\u001b[0m\u001b[0mget\u001b[0m\u001b[0;34m(\u001b[0m\u001b[0murl\u001b[0m\u001b[0;34m)\u001b[0m\u001b[0;34m\u001b[0m\u001b[0m\n\u001b[0m\u001b[1;32m      5\u001b[0m     \u001b[0mdata\u001b[0m \u001b[0;34m=\u001b[0m \u001b[0mr\u001b[0m\u001b[0;34m.\u001b[0m\u001b[0mtext\u001b[0m\u001b[0;34m\u001b[0m\u001b[0m\n\u001b[1;32m      6\u001b[0m     \u001b[0msoup\u001b[0m \u001b[0;34m=\u001b[0m \u001b[0mBeautifulSoup\u001b[0m\u001b[0;34m(\u001b[0m\u001b[0mdata\u001b[0m\u001b[0;34m)\u001b[0m\u001b[0;34m\u001b[0m\u001b[0m\n",
        "\u001b[0;32m/Users/Akshat/anaconda/lib/python2.7/site-packages/requests/api.pyc\u001b[0m in \u001b[0;36mget\u001b[0;34m(url, **kwargs)\u001b[0m\n\u001b[1;32m     53\u001b[0m \u001b[0;34m\u001b[0m\u001b[0m\n\u001b[1;32m     54\u001b[0m     \u001b[0mkwargs\u001b[0m\u001b[0;34m.\u001b[0m\u001b[0msetdefault\u001b[0m\u001b[0;34m(\u001b[0m\u001b[0;34m'allow_redirects'\u001b[0m\u001b[0;34m,\u001b[0m \u001b[0mTrue\u001b[0m\u001b[0;34m)\u001b[0m\u001b[0;34m\u001b[0m\u001b[0m\n\u001b[0;32m---> 55\u001b[0;31m     \u001b[0;32mreturn\u001b[0m \u001b[0mrequest\u001b[0m\u001b[0;34m(\u001b[0m\u001b[0;34m'get'\u001b[0m\u001b[0;34m,\u001b[0m \u001b[0murl\u001b[0m\u001b[0;34m,\u001b[0m \u001b[0;34m**\u001b[0m\u001b[0mkwargs\u001b[0m\u001b[0;34m)\u001b[0m\u001b[0;34m\u001b[0m\u001b[0m\n\u001b[0m\u001b[1;32m     56\u001b[0m \u001b[0;34m\u001b[0m\u001b[0m\n\u001b[1;32m     57\u001b[0m \u001b[0;34m\u001b[0m\u001b[0m\n",
        "\u001b[0;32m/Users/Akshat/anaconda/lib/python2.7/site-packages/requests/api.pyc\u001b[0m in \u001b[0;36mrequest\u001b[0;34m(method, url, **kwargs)\u001b[0m\n\u001b[1;32m     42\u001b[0m \u001b[0;34m\u001b[0m\u001b[0m\n\u001b[1;32m     43\u001b[0m     \u001b[0msession\u001b[0m \u001b[0;34m=\u001b[0m \u001b[0msessions\u001b[0m\u001b[0;34m.\u001b[0m\u001b[0mSession\u001b[0m\u001b[0;34m(\u001b[0m\u001b[0;34m)\u001b[0m\u001b[0;34m\u001b[0m\u001b[0m\n\u001b[0;32m---> 44\u001b[0;31m     \u001b[0;32mreturn\u001b[0m \u001b[0msession\u001b[0m\u001b[0;34m.\u001b[0m\u001b[0mrequest\u001b[0m\u001b[0;34m(\u001b[0m\u001b[0mmethod\u001b[0m\u001b[0;34m=\u001b[0m\u001b[0mmethod\u001b[0m\u001b[0;34m,\u001b[0m \u001b[0murl\u001b[0m\u001b[0;34m=\u001b[0m\u001b[0murl\u001b[0m\u001b[0;34m,\u001b[0m \u001b[0;34m**\u001b[0m\u001b[0mkwargs\u001b[0m\u001b[0;34m)\u001b[0m\u001b[0;34m\u001b[0m\u001b[0m\n\u001b[0m\u001b[1;32m     45\u001b[0m \u001b[0;34m\u001b[0m\u001b[0m\n\u001b[1;32m     46\u001b[0m \u001b[0;34m\u001b[0m\u001b[0m\n",
        "\u001b[0;32m/Users/Akshat/anaconda/lib/python2.7/site-packages/requests/sessions.pyc\u001b[0m in \u001b[0;36mrequest\u001b[0;34m(self, method, url, params, data, headers, cookies, files, auth, timeout, allow_redirects, proxies, hooks, stream, verify, cert)\u001b[0m\n\u001b[1;32m    454\u001b[0m             \u001b[0;34m'allow_redirects'\u001b[0m\u001b[0;34m:\u001b[0m \u001b[0mallow_redirects\u001b[0m\u001b[0;34m,\u001b[0m\u001b[0;34m\u001b[0m\u001b[0m\n\u001b[1;32m    455\u001b[0m         }\n\u001b[0;32m--> 456\u001b[0;31m         \u001b[0mresp\u001b[0m \u001b[0;34m=\u001b[0m \u001b[0mself\u001b[0m\u001b[0;34m.\u001b[0m\u001b[0msend\u001b[0m\u001b[0;34m(\u001b[0m\u001b[0mprep\u001b[0m\u001b[0;34m,\u001b[0m \u001b[0;34m**\u001b[0m\u001b[0msend_kwargs\u001b[0m\u001b[0;34m)\u001b[0m\u001b[0;34m\u001b[0m\u001b[0m\n\u001b[0m\u001b[1;32m    457\u001b[0m \u001b[0;34m\u001b[0m\u001b[0m\n\u001b[1;32m    458\u001b[0m         \u001b[0;32mreturn\u001b[0m \u001b[0mresp\u001b[0m\u001b[0;34m\u001b[0m\u001b[0m\n",
        "\u001b[0;32m/Users/Akshat/anaconda/lib/python2.7/site-packages/requests/sessions.pyc\u001b[0m in \u001b[0;36msend\u001b[0;34m(self, request, **kwargs)\u001b[0m\n\u001b[1;32m    557\u001b[0m \u001b[0;34m\u001b[0m\u001b[0m\n\u001b[1;32m    558\u001b[0m         \u001b[0;31m# Send the request\u001b[0m\u001b[0;34m\u001b[0m\u001b[0;34m\u001b[0m\u001b[0m\n\u001b[0;32m--> 559\u001b[0;31m         \u001b[0mr\u001b[0m \u001b[0;34m=\u001b[0m \u001b[0madapter\u001b[0m\u001b[0;34m.\u001b[0m\u001b[0msend\u001b[0m\u001b[0;34m(\u001b[0m\u001b[0mrequest\u001b[0m\u001b[0;34m,\u001b[0m \u001b[0;34m**\u001b[0m\u001b[0mkwargs\u001b[0m\u001b[0;34m)\u001b[0m\u001b[0;34m\u001b[0m\u001b[0m\n\u001b[0m\u001b[1;32m    560\u001b[0m \u001b[0;34m\u001b[0m\u001b[0m\n\u001b[1;32m    561\u001b[0m         \u001b[0;31m# Total elapsed time of the request (approximately)\u001b[0m\u001b[0;34m\u001b[0m\u001b[0;34m\u001b[0m\u001b[0m\n",
        "\u001b[0;32m/Users/Akshat/anaconda/lib/python2.7/site-packages/requests/adapters.pyc\u001b[0m in \u001b[0;36msend\u001b[0;34m(self, request, stream, timeout, verify, cert, proxies)\u001b[0m\n\u001b[1;32m    373\u001b[0m \u001b[0;34m\u001b[0m\u001b[0m\n\u001b[1;32m    374\u001b[0m         \u001b[0;32mexcept\u001b[0m \u001b[0mMaxRetryError\u001b[0m \u001b[0;32mas\u001b[0m \u001b[0me\u001b[0m\u001b[0;34m:\u001b[0m\u001b[0;34m\u001b[0m\u001b[0m\n\u001b[0;32m--> 375\u001b[0;31m             \u001b[0;32mraise\u001b[0m \u001b[0mConnectionError\u001b[0m\u001b[0;34m(\u001b[0m\u001b[0me\u001b[0m\u001b[0;34m,\u001b[0m \u001b[0mrequest\u001b[0m\u001b[0;34m=\u001b[0m\u001b[0mrequest\u001b[0m\u001b[0;34m)\u001b[0m\u001b[0;34m\u001b[0m\u001b[0m\n\u001b[0m\u001b[1;32m    376\u001b[0m \u001b[0;34m\u001b[0m\u001b[0m\n\u001b[1;32m    377\u001b[0m         \u001b[0;32mexcept\u001b[0m \u001b[0m_ProxyError\u001b[0m \u001b[0;32mas\u001b[0m \u001b[0me\u001b[0m\u001b[0;34m:\u001b[0m\u001b[0;34m\u001b[0m\u001b[0m\n",
        "\u001b[0;31mConnectionError\u001b[0m: HTTPConnectionPool(host='www.city-data.com', port=80): Max retries exceeded with url: /zips/01450.html (Caused by <class 'httplib.BadStatusLine'>: '')"
       ]
      }
     ],
     "prompt_number": 6
    },
    {
     "cell_type": "code",
     "collapsed": false,
     "input": [],
     "language": "python",
     "metadata": {},
     "outputs": []
    }
   ],
   "metadata": {}
  }
 ]
}