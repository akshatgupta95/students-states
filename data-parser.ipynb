{
 "metadata": {
  "name": "",
  "signature": "sha256:a39e1a98dfdbf702d7a532342021a011063266892b967d9d8b521889a25145d9"
 },
 "nbformat": 3,
 "nbformat_minor": 0,
 "worksheets": [
  {
   "cells": [
    {
     "cell_type": "code",
     "collapsed": false,
     "input": [
      "import xlrd as xl\n",
      "import requests\n",
      "from bs4 import BeautifulSoup"
     ],
     "language": "python",
     "metadata": {},
     "outputs": [],
     "prompt_number": 59
    },
    {
     "cell_type": "code",
     "collapsed": false,
     "input": [
      "wb = xl.open_workbook('./zipcodes-fa15.xlsx')"
     ],
     "language": "python",
     "metadata": {},
     "outputs": [],
     "prompt_number": 6
    },
    {
     "cell_type": "code",
     "collapsed": false,
     "input": [
      "all_values = []\n",
      "for sheet in wb.sheets():\n",
      "    for row in range(sheet.nrows):\n",
      "        values = []\n",
      "        for col in range(sheet.ncols):\n",
      "            values.append(sheet.cell(row, col).value)\n",
      "        all_values.append(values)\n",
      "all_values = all_values[5:]"
     ],
     "language": "python",
     "metadata": {},
     "outputs": [],
     "prompt_number": 15
    },
    {
     "cell_type": "code",
     "collapsed": false,
     "input": [
      "def get_state (zipcode):\n",
      "    zipcode = str(zipcode)\n",
      "    url = \"http://www.city-data.com/zips/\" + zipcode + \".html\"\n",
      "    r = requests.get(url)\n",
      "    data = r.text\n",
      "    soup = BeautifulSoup(data)\n",
      "    success_div = soup.findAll(attrs={\"class\":\"alert alert-success\"})\n",
      "    if (success_div is not None):\n",
      "        a = success_div[0].find('a')\n",
      "        state = str(a.text.split(',')[1].strip())\n",
      "    else:\n",
      "        state = None\n",
      "    return state"
     ],
     "language": "python",
     "metadata": {},
     "outputs": [],
     "prompt_number": 129
    }
   ],
   "metadata": {}
  }
 ]
}