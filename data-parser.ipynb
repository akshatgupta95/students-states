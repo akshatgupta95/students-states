{
 "metadata": {
  "name": "",
  "signature": "sha256:f7ae1ef1d2b2bf04b0fb96ade83a18a7eab20e6e30c65e136893f3fb14bcd51c"
 },
 "nbformat": 3,
 "nbformat_minor": 0,
 "worksheets": [
  {
   "cells": [
    {
     "cell_type": "code",
     "collapsed": false,
     "input": [
      "import xlrd as xl\n",
      "import requests\n",
      "from bs4 import BeautifulSoup"
     ],
     "language": "python",
     "metadata": {},
     "outputs": [],
     "prompt_number": 132
    },
    {
     "cell_type": "code",
     "collapsed": false,
     "input": [
      "wb = xl.open_workbook('./app/static/zipcodes-fa15.xlsx')"
     ],
     "language": "python",
     "metadata": {},
     "outputs": [],
     "prompt_number": 135
    },
    {
     "cell_type": "code",
     "collapsed": false,
     "input": [
      "all_values = []\n",
      "for sheet in wb.sheets():\n",
      "    for row in range(sheet.nrows):\n",
      "        values = []\n",
      "        for col in range(sheet.ncols):\n",
      "            values.append(sheet.cell(row, col).value)\n",
      "        all_values.append(values)\n",
      "all_values = all_values[5:]"
     ],
     "language": "python",
     "metadata": {},
     "outputs": [],
     "prompt_number": 136
    },
    {
     "cell_type": "code",
     "collapsed": false,
     "input": [
      "def get_state (zipcode):\n",
      "    zipcode = str(zipcode)\n",
      "    url = \"http://www.city-data.com/zips/\" + zipcode + \".html\"\n",
      "    r = requests.get(url)\n",
      "    data = r.text\n",
      "    soup = BeautifulSoup(data)\n",
      "    success_div = soup.findAll(attrs={\"class\":\"alert alert-success\"})\n",
      "    if (success_div is not None):\n",
      "        a = success_div[0].find('a')\n",
      "        state = str(a.text.split(',')[1].strip())\n",
      "    else:\n",
      "        state = None\n",
      "    return state"
     ],
     "language": "python",
     "metadata": {},
     "outputs": [],
     "prompt_number": 137
    },
    {
     "cell_type": "code",
     "collapsed": false,
     "input": [
      "table = {}\n",
      "\n",
      "midwest = \"Midwest, 41.9653087, -91.8031071\"\n",
      "pacific = \"Pacific, 39.8638751, -123.742465\"\n",
      "rocky = \"Rocky Mountain, 41.2567792, -111.002006\"\n",
      "southwest = \"Southwest, 41.2567792, -111.002006\"\n",
      "southeast = \"Southeast, 32.0292207, -102.262669\"\n",
      "northeast = \"Northeast, 42.3677199, -72.5757032\"\n",
      "noncontig = \"Noncontiguous, 24.1755886, -98.5275888\"\n",
      "\n",
      "table[\"IL\"] = midwest # illinois\n",
      "table[\"WI\"] = midwest # wisconsin\n",
      "table[\"IN\"] = midwest # indiana\n",
      "table[\"OH\"] = midwest # ohio\n",
      "table[\"MI\"] = midwest # michigan\n",
      "table[\"MO\"] = midwest # missouri\n",
      "table[\"IA\"] = midwest # iowa\n",
      "table[\"MN\"] = midwest # minnesota\n",
      "table[\"ND\"] = midwest # north dakota\n",
      "table[\"SD\"] = midwest # south dakota\n",
      "table[\"NE\"] = midwest # nebraska\n",
      "table[\"KS\"] = midwest # kansas\n",
      "\n",
      "table[\"CA\"] = pacific # california\n",
      "table[\"OR\"] = pacific # oregon\n",
      "table[\"WA\"] = pacific # washington\n",
      "\n",
      "table[\"ID\"] = rocky # idaho\n",
      "table[\"NV\"] = rocky #nevada\n",
      "table[\"MT\"] = rocky # montana\n",
      "table[\"UT\"] = rocky # utah\n",
      "table[\"CO\"] = rocky # colorado\n",
      "table[\"WY\"] = rocky #wyoming\n",
      "\n",
      "table[\"AZ\"] = southwest # arizona\n",
      "table[\"TX\"] = southwest # texas\n",
      "table[\"NM\"] = southwest # new mexico\n",
      "table[\"OK\"] = southwest #oklahoma\n",
      "\n",
      "table[\"LA\"] = southeast # louisiana\n",
      "table[\"AR\"] = southeast # arkansas\n",
      "table[\"MS\"] = southeast # mississippi\n",
      "table[\"AL\"] = southeast # alabama\n",
      "table[\"TN\"] = southeast # tennessee\n",
      "table[\"KY\"] = southeast # kentucky\n",
      "table[\"GA\"] = southeast # georgia\n",
      "table[\"FL\"] = southeast # florida\n",
      "table[\"SC\"] = southeast # south carolina\n",
      "table[\"NC\"] = southeast # north carolina\n",
      "table[\"VA\"] = southeast # virginia\n",
      "table[\"WV\"] = southeast # west virginia\n",
      "table[\"MD\"] = southeast # maryland\n",
      "table[\"DE\"] = southeast # delaware\n",
      "\n",
      "table[\"CT\"] = northeast # connecticut\n",
      "table[\"NJ\"] = northeast # new jersey\n",
      "table[\"NY\"] = northeast # new york\n",
      "table[\"PA\"] = northeast # pennsylvania\n",
      "table[\"MA\"] = northeast # massachusetts\n",
      "table[\"VT\"] = northeast # vermont\n",
      "table[\"NH\"] = northeast # new hampshire\n",
      "table[\"ME\"] = northeast # maine\n",
      "table[\"RI\"] = northeast # rhode island\n",
      "\n",
      "table[\"HI\"] = noncontig # hawaii\n",
      "table[\"AK\"] = noncontig # alaska"
     ],
     "language": "python",
     "metadata": {},
     "outputs": [],
     "prompt_number": 146
    },
    {
     "cell_type": "code",
     "collapsed": false,
     "input": [
      "for value in all_values:\n",
      "    curr_zip = str(value[0])\n",
      "    num_students = value[1]\n",
      "    try:\n",
      "        ret_val = table[get_state(curr_zip)]\n",
      "        print (ret_val)\n",
      "    except:\n",
      "        pass"
     ],
     "language": "python",
     "metadata": {},
     "outputs": [
      {
       "output_type": "stream",
       "stream": "stdout",
       "text": [
        "Northeast, 42.3677199, -72.5757032\n",
        "Northeast, 42.3677199, -72.5757032"
       ]
      },
      {
       "output_type": "stream",
       "stream": "stdout",
       "text": [
        "\n",
        "Northeast, 42.3677199, -72.5757032"
       ]
      },
      {
       "output_type": "stream",
       "stream": "stdout",
       "text": [
        "\n",
        "Northeast, 42.3677199, -72.5757032"
       ]
      },
      {
       "output_type": "stream",
       "stream": "stdout",
       "text": [
        "\n",
        "Northeast, 42.3677199, -72.5757032"
       ]
      },
      {
       "output_type": "stream",
       "stream": "stdout",
       "text": [
        "\n",
        "Northeast, 42.3677199, -72.5757032"
       ]
      },
      {
       "output_type": "stream",
       "stream": "stdout",
       "text": [
        "\n",
        "Northeast, 42.3677199, -72.5757032"
       ]
      },
      {
       "output_type": "stream",
       "stream": "stdout",
       "text": [
        "\n",
        "Northeast, 42.3677199, -72.5757032"
       ]
      },
      {
       "output_type": "stream",
       "stream": "stdout",
       "text": [
        "\n",
        "Northeast, 42.3677199, -72.5757032"
       ]
      },
      {
       "output_type": "stream",
       "stream": "stdout",
       "text": [
        "\n",
        "Northeast, 42.3677199, -72.5757032"
       ]
      },
      {
       "output_type": "stream",
       "stream": "stdout",
       "text": [
        "\n",
        "Northeast, 42.3677199, -72.5757032"
       ]
      },
      {
       "output_type": "stream",
       "stream": "stdout",
       "text": [
        "\n",
        "Northeast, 42.3677199, -72.5757032"
       ]
      },
      {
       "output_type": "stream",
       "stream": "stdout",
       "text": [
        "\n",
        "Northeast, 42.3677199, -72.5757032"
       ]
      },
      {
       "output_type": "stream",
       "stream": "stdout",
       "text": [
        "\n",
        "Northeast, 42.3677199, -72.5757032"
       ]
      },
      {
       "output_type": "stream",
       "stream": "stdout",
       "text": [
        "\n",
        "Northeast, 42.3677199, -72.5757032"
       ]
      },
      {
       "output_type": "stream",
       "stream": "stdout",
       "text": [
        "\n",
        "Northeast, 42.3677199, -72.5757032"
       ]
      },
      {
       "output_type": "stream",
       "stream": "stdout",
       "text": [
        "\n",
        "Northeast, 42.3677199, -72.5757032"
       ]
      },
      {
       "output_type": "stream",
       "stream": "stdout",
       "text": [
        "\n",
        "Northeast, 42.3677199, -72.5757032"
       ]
      },
      {
       "output_type": "stream",
       "stream": "stdout",
       "text": [
        "\n",
        "Northeast, 42.3677199, -72.5757032"
       ]
      },
      {
       "output_type": "stream",
       "stream": "stdout",
       "text": [
        "\n",
        "Northeast, 42.3677199, -72.5757032"
       ]
      },
      {
       "output_type": "stream",
       "stream": "stdout",
       "text": [
        "\n",
        "Northeast, 42.3677199, -72.5757032"
       ]
      },
      {
       "output_type": "stream",
       "stream": "stdout",
       "text": [
        "\n",
        "Northeast, 42.3677199, -72.5757032"
       ]
      },
      {
       "output_type": "stream",
       "stream": "stdout",
       "text": [
        "\n",
        "Northeast, 42.3677199, -72.5757032"
       ]
      },
      {
       "output_type": "stream",
       "stream": "stdout",
       "text": [
        "\n",
        "Northeast, 42.3677199, -72.5757032"
       ]
      },
      {
       "output_type": "stream",
       "stream": "stdout",
       "text": [
        "\n",
        "Northeast, 42.3677199, -72.5757032"
       ]
      },
      {
       "output_type": "stream",
       "stream": "stdout",
       "text": [
        "\n",
        "Northeast, 42.3677199, -72.5757032"
       ]
      },
      {
       "output_type": "stream",
       "stream": "stdout",
       "text": [
        "\n",
        "Northeast, 42.3677199, -72.5757032"
       ]
      },
      {
       "output_type": "stream",
       "stream": "stdout",
       "text": [
        "\n",
        "Northeast, 42.3677199, -72.5757032"
       ]
      },
      {
       "output_type": "stream",
       "stream": "stdout",
       "text": [
        "\n",
        "Northeast, 42.3677199, -72.5757032"
       ]
      },
      {
       "output_type": "stream",
       "stream": "stdout",
       "text": [
        "\n",
        "Northeast, 42.3677199, -72.5757032"
       ]
      },
      {
       "output_type": "stream",
       "stream": "stdout",
       "text": [
        "\n",
        "Northeast, 42.3677199, -72.5757032"
       ]
      },
      {
       "output_type": "stream",
       "stream": "stdout",
       "text": [
        "\n",
        "Northeast, 42.3677199, -72.5757032"
       ]
      },
      {
       "output_type": "stream",
       "stream": "stdout",
       "text": [
        "\n",
        "Northeast, 42.3677199, -72.5757032"
       ]
      },
      {
       "output_type": "stream",
       "stream": "stdout",
       "text": [
        "\n",
        "Northeast, 42.3677199, -72.5757032"
       ]
      },
      {
       "output_type": "stream",
       "stream": "stdout",
       "text": [
        "\n",
        "Northeast, 42.3677199, -72.5757032"
       ]
      },
      {
       "output_type": "stream",
       "stream": "stdout",
       "text": [
        "\n",
        "Northeast, 42.3677199, -72.5757032"
       ]
      },
      {
       "output_type": "stream",
       "stream": "stdout",
       "text": [
        "\n",
        "Northeast, 42.3677199, -72.5757032"
       ]
      },
      {
       "output_type": "stream",
       "stream": "stdout",
       "text": [
        "\n",
        "Northeast, 42.3677199, -72.5757032"
       ]
      },
      {
       "output_type": "stream",
       "stream": "stdout",
       "text": [
        "\n",
        "Northeast, 42.3677199, -72.5757032"
       ]
      },
      {
       "output_type": "stream",
       "stream": "stdout",
       "text": [
        "\n",
        "Northeast, 42.3677199, -72.5757032"
       ]
      },
      {
       "output_type": "stream",
       "stream": "stdout",
       "text": [
        "\n",
        "Northeast, 42.3677199, -72.5757032"
       ]
      },
      {
       "output_type": "stream",
       "stream": "stdout",
       "text": [
        "\n",
        "Northeast, 42.3677199, -72.5757032"
       ]
      },
      {
       "output_type": "stream",
       "stream": "stdout",
       "text": [
        "\n",
        "Northeast, 42.3677199, -72.5757032"
       ]
      },
      {
       "output_type": "stream",
       "stream": "stdout",
       "text": [
        "\n",
        "Northeast, 42.3677199, -72.5757032"
       ]
      },
      {
       "output_type": "stream",
       "stream": "stdout",
       "text": [
        "\n",
        "Northeast, 42.3677199, -72.5757032"
       ]
      },
      {
       "output_type": "stream",
       "stream": "stdout",
       "text": [
        "\n",
        "Northeast, 42.3677199, -72.5757032"
       ]
      },
      {
       "output_type": "stream",
       "stream": "stdout",
       "text": [
        "\n",
        "Northeast, 42.3677199, -72.5757032"
       ]
      },
      {
       "output_type": "stream",
       "stream": "stdout",
       "text": [
        "\n",
        "Northeast, 42.3677199, -72.5757032"
       ]
      },
      {
       "output_type": "stream",
       "stream": "stdout",
       "text": [
        "\n",
        "Northeast, 42.3677199, -72.5757032"
       ]
      },
      {
       "output_type": "stream",
       "stream": "stdout",
       "text": [
        "\n",
        "Northeast, 42.3677199, -72.5757032"
       ]
      },
      {
       "output_type": "stream",
       "stream": "stdout",
       "text": [
        "\n",
        "Northeast, 42.3677199, -72.5757032"
       ]
      },
      {
       "output_type": "stream",
       "stream": "stdout",
       "text": [
        "\n",
        "Northeast, 42.3677199, -72.5757032"
       ]
      },
      {
       "output_type": "stream",
       "stream": "stdout",
       "text": [
        "\n",
        "Northeast, 42.3677199, -72.5757032"
       ]
      },
      {
       "output_type": "stream",
       "stream": "stdout",
       "text": [
        "\n",
        "Northeast, 42.3677199, -72.5757032"
       ]
      },
      {
       "output_type": "stream",
       "stream": "stdout",
       "text": [
        "\n",
        "Northeast, 42.3677199, -72.5757032"
       ]
      },
      {
       "output_type": "stream",
       "stream": "stdout",
       "text": [
        "\n",
        "Northeast, 42.3677199, -72.5757032"
       ]
      },
      {
       "output_type": "stream",
       "stream": "stdout",
       "text": [
        "\n",
        "Northeast, 42.3677199, -72.5757032"
       ]
      },
      {
       "output_type": "stream",
       "stream": "stdout",
       "text": [
        "\n",
        "Northeast, 42.3677199, -72.5757032"
       ]
      },
      {
       "output_type": "stream",
       "stream": "stdout",
       "text": [
        "\n",
        "Northeast, 42.3677199, -72.5757032"
       ]
      },
      {
       "output_type": "stream",
       "stream": "stdout",
       "text": [
        "\n",
        "Northeast, 42.3677199, -72.5757032"
       ]
      },
      {
       "output_type": "stream",
       "stream": "stdout",
       "text": [
        "\n",
        "Northeast, 42.3677199, -72.5757032"
       ]
      },
      {
       "output_type": "stream",
       "stream": "stdout",
       "text": [
        "\n",
        "Northeast, 42.3677199, -72.5757032"
       ]
      },
      {
       "output_type": "stream",
       "stream": "stdout",
       "text": [
        "\n",
        "Northeast, 42.3677199, -72.5757032"
       ]
      },
      {
       "output_type": "stream",
       "stream": "stdout",
       "text": [
        "\n",
        "Northeast, 42.3677199, -72.5757032"
       ]
      },
      {
       "output_type": "stream",
       "stream": "stdout",
       "text": [
        "\n",
        "Northeast, 42.3677199, -72.5757032"
       ]
      },
      {
       "output_type": "stream",
       "stream": "stdout",
       "text": [
        "\n",
        "Northeast, 42.3677199, -72.5757032"
       ]
      },
      {
       "output_type": "stream",
       "stream": "stdout",
       "text": [
        "\n",
        "Northeast, 42.3677199, -72.5757032"
       ]
      },
      {
       "output_type": "stream",
       "stream": "stdout",
       "text": [
        "\n",
        "Northeast, 42.3677199, -72.5757032"
       ]
      },
      {
       "output_type": "stream",
       "stream": "stdout",
       "text": [
        "\n",
        "Northeast, 42.3677199, -72.5757032"
       ]
      },
      {
       "output_type": "stream",
       "stream": "stdout",
       "text": [
        "\n",
        "Northeast, 42.3677199, -72.5757032"
       ]
      },
      {
       "output_type": "stream",
       "stream": "stdout",
       "text": [
        "\n",
        "Northeast, 42.3677199, -72.5757032"
       ]
      },
      {
       "output_type": "stream",
       "stream": "stdout",
       "text": [
        "\n",
        "Northeast, 42.3677199, -72.5757032"
       ]
      },
      {
       "output_type": "stream",
       "stream": "stdout",
       "text": [
        "\n",
        "Northeast, 42.3677199, -72.5757032"
       ]
      },
      {
       "output_type": "stream",
       "stream": "stdout",
       "text": [
        "\n",
        "Northeast, 42.3677199, -72.5757032"
       ]
      },
      {
       "output_type": "stream",
       "stream": "stdout",
       "text": [
        "\n",
        "Northeast, 42.3677199, -72.5757032"
       ]
      },
      {
       "output_type": "stream",
       "stream": "stdout",
       "text": [
        "\n",
        "Northeast, 42.3677199, -72.5757032"
       ]
      },
      {
       "output_type": "stream",
       "stream": "stdout",
       "text": [
        "\n",
        "Northeast, 42.3677199, -72.5757032"
       ]
      },
      {
       "output_type": "stream",
       "stream": "stdout",
       "text": [
        "\n",
        "Northeast, 42.3677199, -72.5757032"
       ]
      },
      {
       "output_type": "stream",
       "stream": "stdout",
       "text": [
        "\n",
        "Northeast, 42.3677199, -72.5757032"
       ]
      },
      {
       "output_type": "stream",
       "stream": "stdout",
       "text": [
        "\n",
        "Northeast, 42.3677199, -72.5757032"
       ]
      },
      {
       "output_type": "stream",
       "stream": "stdout",
       "text": [
        "\n",
        "Northeast, 42.3677199, -72.5757032"
       ]
      },
      {
       "output_type": "stream",
       "stream": "stdout",
       "text": [
        "\n",
        "Northeast, 42.3677199, -72.5757032"
       ]
      },
      {
       "output_type": "stream",
       "stream": "stdout",
       "text": [
        "\n",
        "Northeast, 42.3677199, -72.5757032"
       ]
      },
      {
       "output_type": "stream",
       "stream": "stdout",
       "text": [
        "\n",
        "Northeast, 42.3677199, -72.5757032"
       ]
      },
      {
       "output_type": "stream",
       "stream": "stdout",
       "text": [
        "\n",
        "Northeast, 42.3677199, -72.5757032"
       ]
      },
      {
       "output_type": "stream",
       "stream": "stdout",
       "text": [
        "\n",
        "Northeast, 42.3677199, -72.5757032"
       ]
      },
      {
       "output_type": "stream",
       "stream": "stdout",
       "text": [
        "\n",
        "Northeast, 42.3677199, -72.5757032"
       ]
      },
      {
       "output_type": "stream",
       "stream": "stdout",
       "text": [
        "\n",
        "Northeast, 42.3677199, -72.5757032"
       ]
      },
      {
       "output_type": "stream",
       "stream": "stdout",
       "text": [
        "\n",
        "Northeast, 42.3677199, -72.5757032"
       ]
      },
      {
       "output_type": "stream",
       "stream": "stdout",
       "text": [
        "\n",
        "Northeast, 42.3677199, -72.5757032"
       ]
      },
      {
       "output_type": "stream",
       "stream": "stdout",
       "text": [
        "\n",
        "Northeast, 42.3677199, -72.5757032"
       ]
      },
      {
       "output_type": "stream",
       "stream": "stdout",
       "text": [
        "\n",
        "Northeast, 42.3677199, -72.5757032"
       ]
      },
      {
       "output_type": "stream",
       "stream": "stdout",
       "text": [
        "\n",
        "Northeast, 42.3677199, -72.5757032"
       ]
      },
      {
       "output_type": "stream",
       "stream": "stdout",
       "text": [
        "\n",
        "Northeast, 42.3677199, -72.5757032"
       ]
      },
      {
       "output_type": "stream",
       "stream": "stdout",
       "text": [
        "\n",
        "Northeast, 42.3677199, -72.5757032"
       ]
      },
      {
       "output_type": "stream",
       "stream": "stdout",
       "text": [
        "\n",
        "Northeast, 42.3677199, -72.5757032"
       ]
      },
      {
       "output_type": "stream",
       "stream": "stdout",
       "text": [
        "\n",
        "Northeast, 42.3677199, -72.5757032"
       ]
      },
      {
       "output_type": "stream",
       "stream": "stdout",
       "text": [
        "\n",
        "Northeast, 42.3677199, -72.5757032"
       ]
      },
      {
       "output_type": "stream",
       "stream": "stdout",
       "text": [
        "\n",
        "Northeast, 42.3677199, -72.5757032"
       ]
      },
      {
       "output_type": "stream",
       "stream": "stdout",
       "text": [
        "\n",
        "Northeast, 42.3677199, -72.5757032"
       ]
      },
      {
       "output_type": "stream",
       "stream": "stdout",
       "text": [
        "\n",
        "Northeast, 42.3677199, -72.5757032"
       ]
      },
      {
       "output_type": "stream",
       "stream": "stdout",
       "text": [
        "\n",
        "Northeast, 42.3677199, -72.5757032"
       ]
      },
      {
       "output_type": "stream",
       "stream": "stdout",
       "text": [
        "\n",
        "Northeast, 42.3677199, -72.5757032"
       ]
      },
      {
       "output_type": "stream",
       "stream": "stdout",
       "text": [
        "\n",
        "Northeast, 42.3677199, -72.5757032"
       ]
      },
      {
       "output_type": "stream",
       "stream": "stdout",
       "text": [
        "\n",
        "Northeast, 42.3677199, -72.5757032"
       ]
      },
      {
       "output_type": "stream",
       "stream": "stdout",
       "text": [
        "\n",
        "Northeast, 42.3677199, -72.5757032"
       ]
      },
      {
       "output_type": "stream",
       "stream": "stdout",
       "text": [
        "\n",
        "Northeast, 42.3677199, -72.5757032"
       ]
      },
      {
       "output_type": "stream",
       "stream": "stdout",
       "text": [
        "\n",
        "Northeast, 42.3677199, -72.5757032"
       ]
      },
      {
       "output_type": "stream",
       "stream": "stdout",
       "text": [
        "\n",
        "Northeast, 42.3677199, -72.5757032"
       ]
      },
      {
       "output_type": "stream",
       "stream": "stdout",
       "text": [
        "\n",
        "Northeast, 42.3677199, -72.5757032"
       ]
      },
      {
       "output_type": "stream",
       "stream": "stdout",
       "text": [
        "\n",
        "Northeast, 42.3677199, -72.5757032"
       ]
      },
      {
       "output_type": "stream",
       "stream": "stdout",
       "text": [
        "\n",
        "Northeast, 42.3677199, -72.5757032"
       ]
      },
      {
       "output_type": "stream",
       "stream": "stdout",
       "text": [
        "\n",
        "Northeast, 42.3677199, -72.5757032"
       ]
      },
      {
       "output_type": "stream",
       "stream": "stdout",
       "text": [
        "\n",
        "Northeast, 42.3677199, -72.5757032"
       ]
      },
      {
       "output_type": "stream",
       "stream": "stdout",
       "text": [
        "\n",
        "Northeast, 42.3677199, -72.5757032"
       ]
      },
      {
       "output_type": "stream",
       "stream": "stdout",
       "text": [
        "\n",
        "Northeast, 42.3677199, -72.5757032"
       ]
      },
      {
       "output_type": "stream",
       "stream": "stdout",
       "text": [
        "\n",
        "Northeast, 42.3677199, -72.5757032"
       ]
      },
      {
       "output_type": "stream",
       "stream": "stdout",
       "text": [
        "\n",
        "Northeast, 42.3677199, -72.5757032"
       ]
      },
      {
       "output_type": "stream",
       "stream": "stdout",
       "text": [
        "\n",
        "Northeast, 42.3677199, -72.5757032"
       ]
      },
      {
       "output_type": "stream",
       "stream": "stdout",
       "text": [
        "\n",
        "Northeast, 42.3677199, -72.5757032"
       ]
      },
      {
       "output_type": "stream",
       "stream": "stdout",
       "text": [
        "\n",
        "Northeast, 42.3677199, -72.5757032"
       ]
      },
      {
       "output_type": "stream",
       "stream": "stdout",
       "text": [
        "\n",
        "Northeast, 42.3677199, -72.5757032"
       ]
      },
      {
       "output_type": "stream",
       "stream": "stdout",
       "text": [
        "\n",
        "Northeast, 42.3677199, -72.5757032"
       ]
      },
      {
       "output_type": "stream",
       "stream": "stdout",
       "text": [
        "\n",
        "Northeast, 42.3677199, -72.5757032"
       ]
      },
      {
       "output_type": "stream",
       "stream": "stdout",
       "text": [
        "\n",
        "Northeast, 42.3677199, -72.5757032"
       ]
      },
      {
       "output_type": "stream",
       "stream": "stdout",
       "text": [
        "\n",
        "Northeast, 42.3677199, -72.5757032"
       ]
      },
      {
       "output_type": "stream",
       "stream": "stdout",
       "text": [
        "\n",
        "Northeast, 42.3677199, -72.5757032"
       ]
      },
      {
       "output_type": "stream",
       "stream": "stdout",
       "text": [
        "\n",
        "Northeast, 42.3677199, -72.5757032"
       ]
      },
      {
       "output_type": "stream",
       "stream": "stdout",
       "text": [
        "\n",
        "Northeast, 42.3677199, -72.5757032"
       ]
      },
      {
       "output_type": "stream",
       "stream": "stdout",
       "text": [
        "\n",
        "Northeast, 42.3677199, -72.5757032"
       ]
      },
      {
       "output_type": "stream",
       "stream": "stdout",
       "text": [
        "\n",
        "Northeast, 42.3677199, -72.5757032"
       ]
      },
      {
       "output_type": "stream",
       "stream": "stdout",
       "text": [
        "\n",
        "Northeast, 42.3677199, -72.5757032"
       ]
      },
      {
       "output_type": "stream",
       "stream": "stdout",
       "text": [
        "\n",
        "Northeast, 42.3677199, -72.5757032"
       ]
      },
      {
       "output_type": "stream",
       "stream": "stdout",
       "text": [
        "\n",
        "Northeast, 42.3677199, -72.5757032"
       ]
      },
      {
       "output_type": "stream",
       "stream": "stdout",
       "text": [
        "\n",
        "Northeast, 42.3677199, -72.5757032"
       ]
      },
      {
       "output_type": "stream",
       "stream": "stdout",
       "text": [
        "\n",
        "Northeast, 42.3677199, -72.5757032"
       ]
      },
      {
       "output_type": "stream",
       "stream": "stdout",
       "text": [
        "\n",
        "Northeast, 42.3677199, -72.5757032"
       ]
      },
      {
       "output_type": "stream",
       "stream": "stdout",
       "text": [
        "\n",
        "Northeast, 42.3677199, -72.5757032"
       ]
      },
      {
       "output_type": "stream",
       "stream": "stdout",
       "text": [
        "\n",
        "Northeast, 42.3677199, -72.5757032"
       ]
      },
      {
       "output_type": "stream",
       "stream": "stdout",
       "text": [
        "\n",
        "Northeast, 42.3677199, -72.5757032"
       ]
      },
      {
       "output_type": "stream",
       "stream": "stdout",
       "text": [
        "\n",
        "Northeast, 42.3677199, -72.5757032"
       ]
      },
      {
       "output_type": "stream",
       "stream": "stdout",
       "text": [
        "\n",
        "Northeast, 42.3677199, -72.5757032"
       ]
      },
      {
       "output_type": "stream",
       "stream": "stdout",
       "text": [
        "\n",
        "Northeast, 42.3677199, -72.5757032"
       ]
      },
      {
       "output_type": "stream",
       "stream": "stdout",
       "text": [
        "\n",
        "Northeast, 42.3677199, -72.5757032"
       ]
      },
      {
       "output_type": "stream",
       "stream": "stdout",
       "text": [
        "\n",
        "Northeast, 42.3677199, -72.5757032"
       ]
      },
      {
       "output_type": "stream",
       "stream": "stdout",
       "text": [
        "\n",
        "Northeast, 42.3677199, -72.5757032"
       ]
      },
      {
       "output_type": "stream",
       "stream": "stdout",
       "text": [
        "\n",
        "Northeast, 42.3677199, -72.5757032"
       ]
      },
      {
       "output_type": "stream",
       "stream": "stdout",
       "text": [
        "\n",
        "Northeast, 42.3677199, -72.5757032"
       ]
      },
      {
       "output_type": "stream",
       "stream": "stdout",
       "text": [
        "\n",
        "Northeast, 42.3677199, -72.5757032"
       ]
      },
      {
       "output_type": "stream",
       "stream": "stdout",
       "text": [
        "\n",
        "Northeast, 42.3677199, -72.5757032"
       ]
      },
      {
       "output_type": "stream",
       "stream": "stdout",
       "text": [
        "\n",
        "Northeast, 42.3677199, -72.5757032"
       ]
      },
      {
       "output_type": "stream",
       "stream": "stdout",
       "text": [
        "\n",
        "Northeast, 42.3677199, -72.5757032"
       ]
      },
      {
       "output_type": "stream",
       "stream": "stdout",
       "text": [
        "\n",
        "Northeast, 42.3677199, -72.5757032"
       ]
      },
      {
       "output_type": "stream",
       "stream": "stdout",
       "text": [
        "\n",
        "Northeast, 42.3677199, -72.5757032"
       ]
      },
      {
       "output_type": "stream",
       "stream": "stdout",
       "text": [
        "\n",
        "Northeast, 42.3677199, -72.5757032"
       ]
      },
      {
       "output_type": "stream",
       "stream": "stdout",
       "text": [
        "\n",
        "Northeast, 42.3677199, -72.5757032"
       ]
      },
      {
       "output_type": "stream",
       "stream": "stdout",
       "text": [
        "\n",
        "Northeast, 42.3677199, -72.5757032"
       ]
      },
      {
       "output_type": "stream",
       "stream": "stdout",
       "text": [
        "\n",
        "Northeast, 42.3677199, -72.5757032"
       ]
      },
      {
       "output_type": "stream",
       "stream": "stdout",
       "text": [
        "\n",
        "Northeast, 42.3677199, -72.5757032"
       ]
      },
      {
       "output_type": "stream",
       "stream": "stdout",
       "text": [
        "\n",
        "Northeast, 42.3677199, -72.5757032"
       ]
      },
      {
       "output_type": "stream",
       "stream": "stdout",
       "text": [
        "\n",
        "Northeast, 42.3677199, -72.5757032"
       ]
      },
      {
       "output_type": "stream",
       "stream": "stdout",
       "text": [
        "\n",
        "Northeast, 42.3677199, -72.5757032"
       ]
      },
      {
       "output_type": "stream",
       "stream": "stdout",
       "text": [
        "\n",
        "Northeast, 42.3677199, -72.5757032"
       ]
      },
      {
       "output_type": "stream",
       "stream": "stdout",
       "text": [
        "\n",
        "Northeast, 42.3677199, -72.5757032"
       ]
      },
      {
       "output_type": "stream",
       "stream": "stdout",
       "text": [
        "\n",
        "Northeast, 42.3677199, -72.5757032"
       ]
      },
      {
       "output_type": "stream",
       "stream": "stdout",
       "text": [
        "\n",
        "Northeast, 42.3677199, -72.5757032"
       ]
      },
      {
       "output_type": "stream",
       "stream": "stdout",
       "text": [
        "\n",
        "Northeast, 42.3677199, -72.5757032"
       ]
      },
      {
       "output_type": "stream",
       "stream": "stdout",
       "text": [
        "\n",
        "Northeast, 42.3677199, -72.5757032"
       ]
      },
      {
       "output_type": "stream",
       "stream": "stdout",
       "text": [
        "\n",
        "Northeast, 42.3677199, -72.5757032"
       ]
      },
      {
       "output_type": "stream",
       "stream": "stdout",
       "text": [
        "\n",
        "Northeast, 42.3677199, -72.5757032"
       ]
      },
      {
       "output_type": "stream",
       "stream": "stdout",
       "text": [
        "\n",
        "Northeast, 42.3677199, -72.5757032"
       ]
      },
      {
       "output_type": "stream",
       "stream": "stdout",
       "text": [
        "\n",
        "Northeast, 42.3677199, -72.5757032"
       ]
      },
      {
       "output_type": "stream",
       "stream": "stdout",
       "text": [
        "\n",
        "Northeast, 42.3677199, -72.5757032"
       ]
      },
      {
       "output_type": "stream",
       "stream": "stdout",
       "text": [
        "\n",
        "Northeast, 42.3677199, -72.5757032"
       ]
      },
      {
       "output_type": "stream",
       "stream": "stdout",
       "text": [
        "\n",
        "Northeast, 42.3677199, -72.5757032"
       ]
      },
      {
       "output_type": "stream",
       "stream": "stdout",
       "text": [
        "\n",
        "Northeast, 42.3677199, -72.5757032"
       ]
      },
      {
       "output_type": "stream",
       "stream": "stdout",
       "text": [
        "\n",
        "Northeast, 42.3677199, -72.5757032"
       ]
      },
      {
       "output_type": "stream",
       "stream": "stdout",
       "text": [
        "\n",
        "Northeast, 42.3677199, -72.5757032"
       ]
      },
      {
       "output_type": "stream",
       "stream": "stdout",
       "text": [
        "\n",
        "Northeast, 42.3677199, -72.5757032"
       ]
      },
      {
       "output_type": "stream",
       "stream": "stdout",
       "text": [
        "\n",
        "Northeast, 42.3677199, -72.5757032"
       ]
      },
      {
       "output_type": "stream",
       "stream": "stdout",
       "text": [
        "\n",
        "Northeast, 42.3677199, -72.5757032"
       ]
      },
      {
       "output_type": "stream",
       "stream": "stdout",
       "text": [
        "\n",
        "Northeast, 42.3677199, -72.5757032"
       ]
      },
      {
       "output_type": "stream",
       "stream": "stdout",
       "text": [
        "\n",
        "Northeast, 42.3677199, -72.5757032"
       ]
      },
      {
       "output_type": "stream",
       "stream": "stdout",
       "text": [
        "\n",
        "Northeast, 42.3677199, -72.5757032"
       ]
      },
      {
       "output_type": "stream",
       "stream": "stdout",
       "text": [
        "\n",
        "Northeast, 42.3677199, -72.5757032"
       ]
      },
      {
       "output_type": "stream",
       "stream": "stdout",
       "text": [
        "\n",
        "Northeast, 42.3677199, -72.5757032"
       ]
      },
      {
       "output_type": "stream",
       "stream": "stdout",
       "text": [
        "\n",
        "Northeast, 42.3677199, -72.5757032"
       ]
      },
      {
       "output_type": "stream",
       "stream": "stdout",
       "text": [
        "\n",
        "Northeast, 42.3677199, -72.5757032"
       ]
      },
      {
       "output_type": "stream",
       "stream": "stdout",
       "text": [
        "\n",
        "Northeast, 42.3677199, -72.5757032"
       ]
      },
      {
       "output_type": "stream",
       "stream": "stdout",
       "text": [
        "\n",
        "Northeast, 42.3677199, -72.5757032"
       ]
      },
      {
       "output_type": "stream",
       "stream": "stdout",
       "text": [
        "\n",
        "Northeast, 42.3677199, -72.5757032"
       ]
      },
      {
       "output_type": "stream",
       "stream": "stdout",
       "text": [
        "\n",
        "Northeast, 42.3677199, -72.5757032"
       ]
      },
      {
       "output_type": "stream",
       "stream": "stdout",
       "text": [
        "\n",
        "Northeast, 42.3677199, -72.5757032"
       ]
      },
      {
       "output_type": "stream",
       "stream": "stdout",
       "text": [
        "\n",
        "Northeast, 42.3677199, -72.5757032"
       ]
      },
      {
       "output_type": "stream",
       "stream": "stdout",
       "text": [
        "\n",
        "Northeast, 42.3677199, -72.5757032"
       ]
      },
      {
       "output_type": "stream",
       "stream": "stdout",
       "text": [
        "\n",
        "Northeast, 42.3677199, -72.5757032"
       ]
      },
      {
       "output_type": "stream",
       "stream": "stdout",
       "text": [
        "\n",
        "Northeast, 42.3677199, -72.5757032"
       ]
      },
      {
       "output_type": "stream",
       "stream": "stdout",
       "text": [
        "\n",
        "Northeast, 42.3677199, -72.5757032"
       ]
      },
      {
       "output_type": "stream",
       "stream": "stdout",
       "text": [
        "\n",
        "Northeast, 42.3677199, -72.5757032"
       ]
      },
      {
       "output_type": "stream",
       "stream": "stdout",
       "text": [
        "\n",
        "Northeast, 42.3677199, -72.5757032"
       ]
      },
      {
       "output_type": "stream",
       "stream": "stdout",
       "text": [
        "\n",
        "Northeast, 42.3677199, -72.5757032"
       ]
      },
      {
       "output_type": "stream",
       "stream": "stdout",
       "text": [
        "\n",
        "Northeast, 42.3677199, -72.5757032"
       ]
      },
      {
       "output_type": "stream",
       "stream": "stdout",
       "text": [
        "\n",
        "Northeast, 42.3677199, -72.5757032"
       ]
      },
      {
       "output_type": "stream",
       "stream": "stdout",
       "text": [
        "\n",
        "Northeast, 42.3677199, -72.5757032"
       ]
      },
      {
       "output_type": "stream",
       "stream": "stdout",
       "text": [
        "\n",
        "Northeast, 42.3677199, -72.5757032"
       ]
      },
      {
       "output_type": "stream",
       "stream": "stdout",
       "text": [
        "\n",
        "Northeast, 42.3677199, -72.5757032"
       ]
      },
      {
       "output_type": "stream",
       "stream": "stdout",
       "text": [
        "\n",
        "Northeast, 42.3677199, -72.5757032"
       ]
      },
      {
       "output_type": "stream",
       "stream": "stdout",
       "text": [
        "\n",
        "Northeast, 42.3677199, -72.5757032"
       ]
      },
      {
       "output_type": "stream",
       "stream": "stdout",
       "text": [
        "\n",
        "Northeast, 42.3677199, -72.5757032"
       ]
      },
      {
       "output_type": "stream",
       "stream": "stdout",
       "text": [
        "\n",
        "Northeast, 42.3677199, -72.5757032"
       ]
      },
      {
       "output_type": "stream",
       "stream": "stdout",
       "text": [
        "\n",
        "Northeast, 42.3677199, -72.5757032"
       ]
      },
      {
       "output_type": "stream",
       "stream": "stdout",
       "text": [
        "\n",
        "Northeast, 42.3677199, -72.5757032"
       ]
      },
      {
       "output_type": "stream",
       "stream": "stdout",
       "text": [
        "\n",
        "Northeast, 42.3677199, -72.5757032"
       ]
      },
      {
       "output_type": "stream",
       "stream": "stdout",
       "text": [
        "\n",
        "Northeast, 42.3677199, -72.5757032"
       ]
      },
      {
       "output_type": "stream",
       "stream": "stdout",
       "text": [
        "\n",
        "Northeast, 42.3677199, -72.5757032"
       ]
      },
      {
       "output_type": "stream",
       "stream": "stdout",
       "text": [
        "\n",
        "Northeast, 42.3677199, -72.5757032"
       ]
      },
      {
       "output_type": "stream",
       "stream": "stdout",
       "text": [
        "\n",
        "Northeast, 42.3677199, -72.5757032"
       ]
      },
      {
       "output_type": "stream",
       "stream": "stdout",
       "text": [
        "\n",
        "Northeast, 42.3677199, -72.5757032"
       ]
      },
      {
       "output_type": "stream",
       "stream": "stdout",
       "text": [
        "\n",
        "Northeast, 42.3677199, -72.5757032"
       ]
      },
      {
       "output_type": "stream",
       "stream": "stdout",
       "text": [
        "\n",
        "Northeast, 42.3677199, -72.5757032"
       ]
      },
      {
       "output_type": "stream",
       "stream": "stdout",
       "text": [
        "\n",
        "Northeast, 42.3677199, -72.5757032"
       ]
      },
      {
       "output_type": "stream",
       "stream": "stdout",
       "text": [
        "\n",
        "Northeast, 42.3677199, -72.5757032"
       ]
      },
      {
       "output_type": "stream",
       "stream": "stdout",
       "text": [
        "\n",
        "Northeast, 42.3677199, -72.5757032"
       ]
      },
      {
       "output_type": "stream",
       "stream": "stdout",
       "text": [
        "\n",
        "Northeast, 42.3677199, -72.5757032"
       ]
      },
      {
       "output_type": "stream",
       "stream": "stdout",
       "text": [
        "\n",
        "Northeast, 42.3677199, -72.5757032"
       ]
      },
      {
       "output_type": "stream",
       "stream": "stdout",
       "text": [
        "\n",
        "Northeast, 42.3677199, -72.5757032"
       ]
      },
      {
       "output_type": "stream",
       "stream": "stdout",
       "text": [
        "\n",
        "Northeast, 42.3677199, -72.5757032"
       ]
      },
      {
       "output_type": "stream",
       "stream": "stdout",
       "text": [
        "\n",
        "Northeast, 42.3677199, -72.5757032"
       ]
      },
      {
       "output_type": "stream",
       "stream": "stdout",
       "text": [
        "\n",
        "Northeast, 42.3677199, -72.5757032"
       ]
      },
      {
       "output_type": "stream",
       "stream": "stdout",
       "text": [
        "\n",
        "Northeast, 42.3677199, -72.5757032"
       ]
      },
      {
       "output_type": "stream",
       "stream": "stdout",
       "text": [
        "\n",
        "Northeast, 42.3677199, -72.5757032"
       ]
      },
      {
       "output_type": "stream",
       "stream": "stdout",
       "text": [
        "\n",
        "Northeast, 42.3677199, -72.5757032"
       ]
      },
      {
       "output_type": "stream",
       "stream": "stdout",
       "text": [
        "\n",
        "Northeast, 42.3677199, -72.5757032"
       ]
      },
      {
       "output_type": "stream",
       "stream": "stdout",
       "text": [
        "\n",
        "Northeast, 42.3677199, -72.5757032"
       ]
      },
      {
       "output_type": "stream",
       "stream": "stdout",
       "text": [
        "\n",
        "Northeast, 42.3677199, -72.5757032"
       ]
      },
      {
       "output_type": "stream",
       "stream": "stdout",
       "text": [
        "\n",
        "Northeast, 42.3677199, -72.5757032"
       ]
      },
      {
       "output_type": "stream",
       "stream": "stdout",
       "text": [
        "\n",
        "Northeast, 42.3677199, -72.5757032"
       ]
      },
      {
       "output_type": "stream",
       "stream": "stdout",
       "text": [
        "\n",
        "Northeast, 42.3677199, -72.5757032"
       ]
      },
      {
       "output_type": "stream",
       "stream": "stdout",
       "text": [
        "\n",
        "Northeast, 42.3677199, -72.5757032"
       ]
      },
      {
       "output_type": "stream",
       "stream": "stdout",
       "text": [
        "\n",
        "Northeast, 42.3677199, -72.5757032"
       ]
      },
      {
       "output_type": "stream",
       "stream": "stdout",
       "text": [
        "\n",
        "Northeast, 42.3677199, -72.5757032"
       ]
      },
      {
       "output_type": "stream",
       "stream": "stdout",
       "text": [
        "\n",
        "Northeast, 42.3677199, -72.5757032"
       ]
      },
      {
       "output_type": "stream",
       "stream": "stdout",
       "text": [
        "\n",
        "Northeast, 42.3677199, -72.5757032"
       ]
      },
      {
       "output_type": "stream",
       "stream": "stdout",
       "text": [
        "\n",
        "Northeast, 42.3677199, -72.5757032"
       ]
      },
      {
       "output_type": "stream",
       "stream": "stdout",
       "text": [
        "\n",
        "Northeast, 42.3677199, -72.5757032"
       ]
      },
      {
       "output_type": "stream",
       "stream": "stdout",
       "text": [
        "\n",
        "Northeast, 42.3677199, -72.5757032"
       ]
      },
      {
       "output_type": "stream",
       "stream": "stdout",
       "text": [
        "\n",
        "Northeast, 42.3677199, -72.5757032"
       ]
      },
      {
       "output_type": "stream",
       "stream": "stdout",
       "text": [
        "\n",
        "Northeast, 42.3677199, -72.5757032"
       ]
      },
      {
       "output_type": "stream",
       "stream": "stdout",
       "text": [
        "\n",
        "Northeast, 42.3677199, -72.5757032"
       ]
      },
      {
       "output_type": "stream",
       "stream": "stdout",
       "text": [
        "\n",
        "Northeast, 42.3677199, -72.5757032"
       ]
      },
      {
       "output_type": "stream",
       "stream": "stdout",
       "text": [
        "\n",
        "Northeast, 42.3677199, -72.5757032"
       ]
      },
      {
       "output_type": "stream",
       "stream": "stdout",
       "text": [
        "\n",
        "Northeast, 42.3677199, -72.5757032"
       ]
      },
      {
       "output_type": "stream",
       "stream": "stdout",
       "text": [
        "\n",
        "Northeast, 42.3677199, -72.5757032"
       ]
      },
      {
       "output_type": "stream",
       "stream": "stdout",
       "text": [
        "\n",
        "Northeast, 42.3677199, -72.5757032"
       ]
      },
      {
       "output_type": "stream",
       "stream": "stdout",
       "text": [
        "\n",
        "Northeast, 42.3677199, -72.5757032"
       ]
      },
      {
       "output_type": "stream",
       "stream": "stdout",
       "text": [
        "\n",
        "Northeast, 42.3677199, -72.5757032"
       ]
      },
      {
       "output_type": "stream",
       "stream": "stdout",
       "text": [
        "\n",
        "Northeast, 42.3677199, -72.5757032"
       ]
      },
      {
       "output_type": "stream",
       "stream": "stdout",
       "text": [
        "\n",
        "Northeast, 42.3677199, -72.5757032"
       ]
      },
      {
       "output_type": "stream",
       "stream": "stdout",
       "text": [
        "\n",
        "Northeast, 42.3677199, -72.5757032"
       ]
      },
      {
       "output_type": "stream",
       "stream": "stdout",
       "text": [
        "\n",
        "Northeast, 42.3677199, -72.5757032"
       ]
      },
      {
       "output_type": "stream",
       "stream": "stdout",
       "text": [
        "\n",
        "Northeast, 42.3677199, -72.5757032"
       ]
      },
      {
       "output_type": "stream",
       "stream": "stdout",
       "text": [
        "\n",
        "Northeast, 42.3677199, -72.5757032"
       ]
      },
      {
       "output_type": "stream",
       "stream": "stdout",
       "text": [
        "\n",
        "Northeast, 42.3677199, -72.5757032"
       ]
      },
      {
       "output_type": "stream",
       "stream": "stdout",
       "text": [
        "\n",
        "Northeast, 42.3677199, -72.5757032"
       ]
      },
      {
       "output_type": "stream",
       "stream": "stdout",
       "text": [
        "\n",
        "Northeast, 42.3677199, -72.5757032"
       ]
      },
      {
       "output_type": "stream",
       "stream": "stdout",
       "text": [
        "\n",
        "Northeast, 42.3677199, -72.5757032"
       ]
      },
      {
       "output_type": "stream",
       "stream": "stdout",
       "text": [
        "\n",
        "Northeast, 42.3677199, -72.5757032"
       ]
      },
      {
       "output_type": "stream",
       "stream": "stdout",
       "text": [
        "\n",
        "Northeast, 42.3677199, -72.5757032"
       ]
      },
      {
       "output_type": "stream",
       "stream": "stdout",
       "text": [
        "\n",
        "Northeast, 42.3677199, -72.5757032"
       ]
      },
      {
       "output_type": "stream",
       "stream": "stdout",
       "text": [
        "\n",
        "Northeast, 42.3677199, -72.5757032"
       ]
      },
      {
       "output_type": "stream",
       "stream": "stdout",
       "text": [
        "\n",
        "Northeast, 42.3677199, -72.5757032"
       ]
      },
      {
       "output_type": "stream",
       "stream": "stdout",
       "text": [
        "\n",
        "Northeast, 42.3677199, -72.5757032"
       ]
      },
      {
       "output_type": "stream",
       "stream": "stdout",
       "text": [
        "\n",
        "Northeast, 42.3677199, -72.5757032"
       ]
      },
      {
       "output_type": "stream",
       "stream": "stdout",
       "text": [
        "\n",
        "Northeast, 42.3677199, -72.5757032"
       ]
      },
      {
       "output_type": "stream",
       "stream": "stdout",
       "text": [
        "\n",
        "Northeast, 42.3677199, -72.5757032"
       ]
      },
      {
       "output_type": "stream",
       "stream": "stdout",
       "text": [
        "\n",
        "Northeast, 42.3677199, -72.5757032"
       ]
      },
      {
       "output_type": "stream",
       "stream": "stdout",
       "text": [
        "\n",
        "Northeast, 42.3677199, -72.5757032"
       ]
      },
      {
       "output_type": "stream",
       "stream": "stdout",
       "text": [
        "\n",
        "Northeast, 42.3677199, -72.5757032"
       ]
      },
      {
       "output_type": "stream",
       "stream": "stdout",
       "text": [
        "\n",
        "Northeast, 42.3677199, -72.5757032"
       ]
      },
      {
       "output_type": "stream",
       "stream": "stdout",
       "text": [
        "\n",
        "Northeast, 42.3677199, -72.5757032"
       ]
      },
      {
       "output_type": "stream",
       "stream": "stdout",
       "text": [
        "\n",
        "Northeast, 42.3677199, -72.5757032"
       ]
      },
      {
       "output_type": "stream",
       "stream": "stdout",
       "text": [
        "\n",
        "Northeast, 42.3677199, -72.5757032"
       ]
      },
      {
       "output_type": "stream",
       "stream": "stdout",
       "text": [
        "\n",
        "Northeast, 42.3677199, -72.5757032"
       ]
      },
      {
       "output_type": "stream",
       "stream": "stdout",
       "text": [
        "\n",
        "Northeast, 42.3677199, -72.5757032"
       ]
      },
      {
       "output_type": "stream",
       "stream": "stdout",
       "text": [
        "\n",
        "Northeast, 42.3677199, -72.5757032"
       ]
      },
      {
       "output_type": "stream",
       "stream": "stdout",
       "text": [
        "\n",
        "Northeast, 42.3677199, -72.5757032"
       ]
      },
      {
       "output_type": "stream",
       "stream": "stdout",
       "text": [
        "\n",
        "Northeast, 42.3677199, -72.5757032"
       ]
      },
      {
       "output_type": "stream",
       "stream": "stdout",
       "text": [
        "\n",
        "Northeast, 42.3677199, -72.5757032"
       ]
      },
      {
       "output_type": "stream",
       "stream": "stdout",
       "text": [
        "\n",
        "Northeast, 42.3677199, -72.5757032"
       ]
      },
      {
       "output_type": "stream",
       "stream": "stdout",
       "text": [
        "\n",
        "Northeast, 42.3677199, -72.5757032"
       ]
      },
      {
       "output_type": "stream",
       "stream": "stdout",
       "text": [
        "\n",
        "Northeast, 42.3677199, -72.5757032"
       ]
      }
     ]
    },
    {
     "cell_type": "code",
     "collapsed": false,
     "input": [],
     "language": "python",
     "metadata": {},
     "outputs": []
    }
   ],
   "metadata": {}
  }
 ]
}